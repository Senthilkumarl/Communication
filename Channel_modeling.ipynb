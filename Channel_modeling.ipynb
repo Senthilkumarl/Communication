{
 "cells": [
  {
   "cell_type": "markdown",
   "metadata": {},
   "source": [
    "# Jakes model"
   ]
  },
  {
   "cell_type": "code",
   "execution_count": 83,
   "metadata": {
    "collapsed": true
   },
   "outputs": [],
   "source": [
    "import numpy as np\n",
    "from numpy import matrix as mat\n",
    "from numpy import concatenate as ct\n",
    "from numpy import pi,cos,sin,sqrt,exp,abs,asarray,log10,\\\n",
    "zeros,polyfit,polyval,ceil, mean, real\n",
    "import matplotlib.pyplot as plt\n",
    "from numpy import ceil, log2\n",
    "from collections import deque\n",
    "from numpy.random import randn\n",
    "from scipy.fftpack import fft,ifft, fftfreq\n",
    "\n",
    "%matplotlib inline"
   ]
  },
  {
   "cell_type": "code",
   "execution_count": 361,
   "metadata": {},
   "outputs": [
    {
     "name": "stdout",
     "output_type": "stream",
     "text": [
      "Jakes model\n"
     ]
    }
   ],
   "source": [
    "fd= 226;\n",
    "Ts= 1e-6;\n",
    "M= 2**12;\n",
    "Ns= 50000;\n",
    "t0=0;\n",
    "E0=1;\n",
    "phi_N=0;\n",
    "# t= [0:M-1]*Ts;\n",
    "print('Jakes model')"
   ]
  },
  {
   "cell_type": "code",
   "execution_count": 362,
   "metadata": {},
   "outputs": [],
   "source": [
    "t=np.arange(0,M)*Ts"
   ]
  },
  {
   "cell_type": "code",
   "execution_count": 363,
   "metadata": {},
   "outputs": [],
   "source": [
    "f=np.arange(-M/2,M/2)/(M*Ts*fd)"
   ]
  },
  {
   "cell_type": "code",
   "execution_count": 364,
   "metadata": {},
   "outputs": [],
   "source": [
    "N0=8;                  # As suggested by Jakes \n",
    "N=4*N0+2;             # an accurate approximation              \n",
    "wd=2*np.pi*fd;           # Maximum doppler frequency[rad]"
   ]
  },
  {
   "cell_type": "code",
   "execution_count": 365,
   "metadata": {},
   "outputs": [],
   "source": [
    "t = t0+np.arange(0,Ns)*Ts;  \n",
    "tf = t[-1]+Ts; "
   ]
  },
  {
   "cell_type": "code",
   "execution_count": 366,
   "metadata": {},
   "outputs": [],
   "source": [
    "N0M=mat(np.arange(1,N0+1))"
   ]
  },
  {
   "cell_type": "code",
   "execution_count": 367,
   "metadata": {},
   "outputs": [],
   "source": [
    "s1=mat(sqrt(2)*cos(wd*t))\n",
    "s=2*cos(wd*cos(2*pi/N*N0M).T*t)"
   ]
  },
  {
   "cell_type": "code",
   "execution_count": 368,
   "metadata": {},
   "outputs": [],
   "source": [
    "coswt=ct((s1, s), axis=0)"
   ]
  },
  {
   "cell_type": "code",
   "execution_count": 369,
   "metadata": {},
   "outputs": [],
   "source": [
    "th=ct((mat(phi_N),pi/(N0+1)*N0M),axis=1)"
   ]
  },
  {
   "cell_type": "code",
   "execution_count": 370,
   "metadata": {},
   "outputs": [],
   "source": [
    "h=E0/sqrt(2*N0+1)*exp(1j*th)*coswt"
   ]
  },
  {
   "cell_type": "code",
   "execution_count": 371,
   "metadata": {},
   "outputs": [],
   "source": [
    "h_mag=abs(h)"
   ]
  },
  {
   "cell_type": "code",
   "execution_count": 372,
   "metadata": {},
   "outputs": [],
   "source": [
    "h_mag_dB=log10(asarray(h_mag[0,:])[0,:])"
   ]
  },
  {
   "cell_type": "code",
   "execution_count": 373,
   "metadata": {},
   "outputs": [],
   "source": [
    "tt=np.arange(1,Ns+1)*Ts"
   ]
  },
  {
   "cell_type": "code",
   "execution_count": 374,
   "metadata": {},
   "outputs": [
    {
     "data": {
      "image/png": "[encoded data removed]",
      "text/plain": [
       "<matplotlib.figure.Figure at 0x31f54550>"
      ]
     },
     "metadata": {},
     "output_type": "display_data"
    }
   ],
   "source": [
    "plt.plot(tt,h_mag_dB)\n",
    "plt.show()"
   ]
  },
  {
   "cell_type": "markdown",
   "metadata": {},
   "source": [
    "# Clarke model"
   ]
  },
  {
   "cell_type": "code",
   "execution_count": 155,
   "metadata": {
    "collapsed": true
   },
   "outputs": [],
   "source": [
    "def dopler_spectrum(fd,Nfft):\n",
    "    df = 2*fd/Nfft\n",
    "    f=mat(zeros(int(Nfft/2)))\n",
    "    y=mat(zeros(int(Nfft)))\n",
    "    f[0,0] = 0;  \n",
    "    y[0,0] = 2*1.5/(pi*fd);   \n",
    "    rg=list(range(1,int(Nfft/2)))\n",
    "    for i in rg:\n",
    "        f[0,i] = (i-1)*df\n",
    "        num=pi*fd*sqrt(1-((f[0,i]/fd)**2))\n",
    "        y[0,i]=y[0,(Nfft-i)]=1.5/num \n",
    "    #     print(i,Nfft-i)\n",
    "    #print(y)\n",
    "    nFitPoints=3 \n",
    "    kk=list(range(int(Nfft/2-nFitPoints)-1,int(Nfft/2)))\n",
    "    # \n",
    "    polyFreq = polyfit(f[0,kk].tolist()[0],y[0,kk].tolist()[0],nFitPoints);\n",
    "    # \n",
    "    y[0,int(Nfft/2)] = polyval(polyFreq,f[0,int(Nfft/2)-1]+df)\n",
    "    return y"
   ]
  },
  {
   "cell_type": "code",
   "execution_count": 72,
   "metadata": {},
   "outputs": [
    {
     "data": {
      "image/png": "[encoded data removed]",
      "text/plain": [
       "<matplotlib.figure.Figure at 0x7b99690>"
      ]
     },
     "metadata": {},
     "output_type": "display_data"
    }
   ],
   "source": [
    "Nfft=16384\n",
    "fd=100\n",
    "\n",
    "y = dopler_spectrum(fd,Nfft)\n",
    "# \n",
    "plt.plot(y.tolist()[0])\n",
    "plt.show()"
   ]
  },
  {
   "cell_type": "code",
   "execution_count": 59,
   "metadata": {},
   "outputs": [
    {
     "data": {
      "text/plain": [
       "(1, 16384)"
      ]
     },
     "execution_count": 59,
     "metadata": {},
     "output_type": "execute_result"
    }
   ],
   "source": [
    "y.shape"
   ]
  },
  {
   "cell_type": "code",
   "execution_count": 5,
   "metadata": {},
   "outputs": [],
   "source": [
    "def nextpow2(x):\n",
    "    res = ceil(log2(x))\n",
    "    return res.astype('int')  #we want integer values only but ceil gives float\n"
   ]
  },
  {
   "cell_type": "code",
   "execution_count": 156,
   "metadata": {},
   "outputs": [],
   "source": [
    "fm=100;   # Maximum Doppler frquency\n",
    "ts_mu=50; scale=1e-6; ts=ts_mu*scale; # Sampling time\n",
    "fs=1/ts;  # Sampling frequency\n",
    "Nd=int(1e6);   # Number of samples\n",
    "\n",
    "\n",
    "N=Nd#1000000"
   ]
  },
  {
   "cell_type": "code",
   "execution_count": 157,
   "metadata": {},
   "outputs": [],
   "source": [
    "Nfft=2**max([3,nextpow2(2*fm/fs*N)])"
   ]
  },
  {
   "cell_type": "code",
   "execution_count": 158,
   "metadata": {},
   "outputs": [],
   "source": [
    "Nifft=int(ceil(Nfft*fs/(2*fm)))"
   ]
  },
  {
   "cell_type": "code",
   "execution_count": 160,
   "metadata": {},
   "outputs": [],
   "source": [
    "GI=randn(1,Nfft)\n",
    "GQ=randn(1,Nfft)"
   ]
  },
  {
   "cell_type": "code",
   "execution_count": 161,
   "metadata": {},
   "outputs": [],
   "source": [
    "CGI = fft(GI);       \n",
    "CGQ = fft(GQ);"
   ]
  },
  {
   "cell_type": "code",
   "execution_count": 164,
   "metadata": {},
   "outputs": [],
   "source": [
    "doppler_coeff = dopler_spectrum(fm,Nfft)"
   ]
  },
  {
   "cell_type": "code",
   "execution_count": 166,
   "metadata": {},
   "outputs": [],
   "source": [
    "f_CGI = np.multiply(CGI,sqrt(doppler_coeff))\n",
    "f_CGQ = np.multiply(CGQ,sqrt(doppler_coeff))"
   ]
  },
  {
   "cell_type": "code",
   "execution_count": 167,
   "metadata": {},
   "outputs": [],
   "source": [
    "tzeros= mat(zeros(Nifft-Nfft,dtype=complex));"
   ]
  },
  {
   "cell_type": "code",
   "execution_count": 168,
   "metadata": {},
   "outputs": [],
   "source": [
    "c1=ct((f_CGI[0,:Nfft/2],tzeros), axis=1)\n",
    "Filtered_CGI=ct((c1,f_CGI[0,Nfft/2:Nfft]), axis=1)"
   ]
  },
  {
   "cell_type": "code",
   "execution_count": 169,
   "metadata": {},
   "outputs": [],
   "source": [
    "c1=ct((f_CGQ[0,:Nfft/2],tzeros), axis=1)\n",
    "Filtered_CGQ=ct((c1,f_CGQ[0,Nfft/2:Nfft]), axis=1)"
   ]
  },
  {
   "cell_type": "code",
   "execution_count": 170,
   "metadata": {},
   "outputs": [],
   "source": [
    "hI = np.asarray(ifft(Filtered_CGI));  \n",
    "hQ= np.asarray(ifft(Filtered_CGQ));"
   ]
  },
  {
   "cell_type": "code",
   "execution_count": 171,
   "metadata": {},
   "outputs": [],
   "source": [
    "rayEnvelope = sqrt(abs(hI)**2 + abs(hQ)**2);"
   ]
  },
  {
   "cell_type": "code",
   "execution_count": 172,
   "metadata": {},
   "outputs": [],
   "source": [
    "rayRMS = sqrt(mean(rayEnvelope[:N]*rayEnvelope[:N]))"
   ]
  },
  {
   "cell_type": "code",
   "execution_count": 182,
   "metadata": {},
   "outputs": [],
   "source": [
    "h = real(hI[0,:N])/rayRMS-1j*real(hQ[0,:N])/rayRMS;\n",
    "h_mag_dB=10*log10(abs(h))\n",
    "h_mag=abs(h)"
   ]
  },
  {
   "cell_type": "code",
   "execution_count": 183,
   "metadata": {},
   "outputs": [],
   "source": [
    "tt=np.arange(0,Nd)*ts"
   ]
  },
  {
   "cell_type": "code",
   "execution_count": 184,
   "metadata": {},
   "outputs": [
    {
     "data": {
      "image/png": "[encoded data removed]",
      "text/plain": [
       "<matplotlib.figure.Figure at 0x1600730>"
      ]
     },
     "metadata": {},
     "output_type": "display_data"
    }
   ],
   "source": [
    "Nsm=1000\n",
    "plt.plot(tt[:Nsm],h_mag_dB[:Nsm])\n",
    "plt.show()"
   ]
  },
  {
   "cell_type": "code",
   "execution_count": 185,
   "metadata": {},
   "outputs": [
    {
     "data": {
      "image/png": "[encoded data removed]",
      "text/plain": [
       "<matplotlib.figure.Figure at 0x17ca9b0>"
      ]
     },
     "metadata": {},
     "output_type": "display_data"
    }
   ],
   "source": [
    "plt.hist(h_mag, 50, normed=True)\n",
    "plt.show()"
   ]
  },
  {
   "cell_type": "code",
   "execution_count": 186,
   "metadata": {},
   "outputs": [
    {
     "data": {
      "text/plain": [
       "array([-2.14949506, -2.14889636, -2.1484315 , ...,  1.32440972,\n",
       "        1.30975974,  1.29494327])"
      ]
     },
     "execution_count": 186,
     "metadata": {},
     "output_type": "execute_result"
    }
   ],
   "source": [
    "np.angle(h)"
   ]
  },
  {
   "cell_type": "code",
   "execution_count": 188,
   "metadata": {},
   "outputs": [
    {
     "data": {
      "image/png": "[encoded data removed]",
      "text/plain": [
       "<matplotlib.figure.Figure at 0x14d8610>"
      ]
     },
     "metadata": {},
     "output_type": "display_data"
    }
   ],
   "source": [
    "plt.hist(np.angle(h), 50, normed=True)\n",
    "plt.show()"
   ]
  },
  {
   "cell_type": "code",
   "execution_count": null,
   "metadata": {
    "collapsed": true
   },
   "outputs": [],
   "source": []
  },
  {
   "cell_type": "code",
   "execution_count": null,
   "metadata": {
    "collapsed": true
   },
   "outputs": [],
   "source": []
  },
  {
   "cell_type": "code",
   "execution_count": null,
   "metadata": {
    "collapsed": true
   },
   "outputs": [],
   "source": []
  }
 ],
 "metadata": {
  "kernelspec": {
   "display_name": "Python 3",
   "language": "python",
   "name": "python3"
  },
  "language_info": {
   "codemirror_mode": {
    "name": "ipython",
    "version": 3
   },
   "file_extension": ".py",
   "mimetype": "text/x-python",
   "name": "python",
   "nbconvert_exporter": "python",
   "pygments_lexer": "ipython3",
   "version": "3.7.3"
  }
 },
 "nbformat": 4,
 "nbformat_minor": 1
}
